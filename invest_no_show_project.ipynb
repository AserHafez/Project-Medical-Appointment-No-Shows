{
 "cells": [
  {
   "cell_type": "markdown",
   "id": "b795c779",
   "metadata": {},
   "source": [
    "<h1>Project: Medical Appointment No Shows</h1>\n",
    "    <h3>Why Do Patients Miss Their Scheduled Appointments?</h3>\n",
    "\n",
    "### Table of Contents\n",
    "<ul>\n",
    "<li><a href=\"#intro\">Introduction</a></li>\n",
    "<li><a href=\"#wrangling\">Data Wrangling</a></li>\n",
    "<li><a href=\"#eda\">Exploratory Data Analysis</a></li>\n",
    "<li><a href=\"#limitations\">Limitations</a></li>\n",
    "<li><a href=\"#conclusions\">Conclusions</a></li>\n",
    "</ul>"
   ]
  },
  {
   "cell_type": "markdown",
   "id": "2a0f3f91",
   "metadata": {},
   "source": [
    "<a id='intro'></a>\n",
    "# Introduction\n",
    "## Context\n",
    "- A person makes a doctor appointment, receives all the instructions and no-show. Who to blame?\n",
    "## Content\n",
    "- This data set represent more than 100k medical appointments in Brazil and is focused on the question of \n",
    "    whether or not patients show up for their appointment.\n",
    "- A number of characteristics about the patient are included in each row.\n",
    "\n",
    "## Data Dictionary\n",
    "<ol>\n",
    "        <b><li>PatientId</li></b>\n",
    "            Identification of a patient\n",
    "        <b><li>AppointmentID</li></b>\n",
    "            Identification of each appointment\n",
    "        <b><li>Gender</li></b>\n",
    "            Male or Female.\n",
    "        <b><li>ScheduledDay</li></b>\n",
    "            The day someone called or registered the appointment.\n",
    "        <b><li>AppointmentDay</li></b>\n",
    "            The day of the actuall appointment.\n",
    "        <b><li>Age</li></b>\n",
    "            How old is the patient.\n",
    "        <b><li>Neighbourhood</li></b>\n",
    "            Where the appointment takes place.\n",
    "        <b><li>Scholarship</li></b>\n",
    "            if the patient enrolled in a scholarship or not.\n",
    "        <b><li>Hipertension</li></b>\n",
    "            if the patient suffer from Hipertension or not.\n",
    "        <b><li> Diabetes</li></b>\n",
    "            if the patient suffer from Diabetes or not.\n",
    "        <b><li>Alcoholism</li></b>\n",
    "            if the patient has Alcoholic problems.\n",
    "        <b><li>Handcap</li></b>\n",
    "            if the patient is Handicap or not, and how many Handicap condition.\n",
    "        <b><li>SMS_received</li></b>\n",
    "            if the patient received a reminder sms for the appointment.\n",
    "        <b><li>No-show</li></b>\n",
    "            finally the most important variable does the patient did show up for his appointment or not.\n",
    "</ol>\n",
    "\n",
    "## Question(s) for Analysis\n",
    "- What factors are important for us to know in order to predict if a patient will show up for their scheduled appointment?"
   ]
  },
  {
   "cell_type": "markdown",
   "id": "73f7fc09",
   "metadata": {},
   "source": [
    "## Import Libraries"
   ]
  },
  {
   "cell_type": "code",
   "execution_count": 1,
   "id": "0d8fba91",
   "metadata": {},
   "outputs": [],
   "source": [
    "# Data Analysis Packages:\n",
    "\n",
    "import numpy as np\n",
    "import pandas as pd\n",
    "\n",
    "# Data Visualization Packages:\n",
    "\n",
    "import matplotlib.pyplot as plt\n",
    "%matplotlib inline\n",
    "import seaborn as sns\n",
    "sns.set()\n"
   ]
  },
  {
   "cell_type": "markdown",
   "id": "effbd22b",
   "metadata": {},
   "source": [
    "<a id='wrangling'></a>\n",
    "## Data Wrangling"
   ]
  },
  {
   "cell_type": "markdown",
   "id": "34facb35",
   "metadata": {},
   "source": [
    "### Load the data"
   ]
  },
  {
   "cell_type": "code",
   "execution_count": 2,
   "id": "fc5332c5",
   "metadata": {},
   "outputs": [],
   "source": [
    "# Read data set filename\n",
    "df = pd.read_csv('noshowappointments-kagglev2-may-2016.csv')"
   ]
  },
  {
   "cell_type": "markdown",
   "id": "78474727",
   "metadata": {},
   "source": [
    "### Check the data"
   ]
  },
  {
   "cell_type": "code",
   "execution_count": 3,
   "id": "5c528fbe",
   "metadata": {},
   "outputs": [
    {
     "data": {
      "text/plain": [
       "(110527, 14)"
      ]
     },
     "execution_count": 3,
     "metadata": {},
     "output_type": "execute_result"
    }
   ],
   "source": [
    "# Check the data set shape (rows and columns)\n",
    "df.shape"
   ]
  },
  {
   "cell_type": "markdown",
   "id": "7c24ed2c",
   "metadata": {},
   "source": [
    "- Our data set has 110527 rows and 14 columns."
   ]
  },
  {
   "cell_type": "code",
   "execution_count": 4,
   "id": "b83f9dcb",
   "metadata": {},
   "outputs": [
    {
     "data": {
      "text/html": [
       "<div>\n",
       "<style scoped>\n",
       "    .dataframe tbody tr th:only-of-type {\n",
       "        vertical-align: middle;\n",
       "    }\n",
       "\n",
       "    .dataframe tbody tr th {\n",
       "        vertical-align: top;\n",
       "    }\n",
       "\n",
       "    .dataframe thead th {\n",
       "        text-align: right;\n",
       "    }\n",
       "</style>\n",
       "<table border=\"1\" class=\"dataframe\">\n",
       "  <thead>\n",
       "    <tr style=\"text-align: right;\">\n",
       "      <th></th>\n",
       "      <th>PatientId</th>\n",
       "      <th>AppointmentID</th>\n",
       "      <th>Gender</th>\n",
       "      <th>ScheduledDay</th>\n",
       "      <th>AppointmentDay</th>\n",
       "      <th>Age</th>\n",
       "      <th>Neighbourhood</th>\n",
       "      <th>Scholarship</th>\n",
       "      <th>Hipertension</th>\n",
       "      <th>Diabetes</th>\n",
       "      <th>Alcoholism</th>\n",
       "      <th>Handcap</th>\n",
       "      <th>SMS_received</th>\n",
       "      <th>No-show</th>\n",
       "    </tr>\n",
       "  </thead>\n",
       "  <tbody>\n",
       "    <tr>\n",
       "      <th>0</th>\n",
       "      <td>2.987250e+13</td>\n",
       "      <td>5642903</td>\n",
       "      <td>F</td>\n",
       "      <td>2016-04-29T18:38:08Z</td>\n",
       "      <td>2016-04-29T00:00:00Z</td>\n",
       "      <td>62</td>\n",
       "      <td>JARDIM DA PENHA</td>\n",
       "      <td>0</td>\n",
       "      <td>1</td>\n",
       "      <td>0</td>\n",
       "      <td>0</td>\n",
       "      <td>0</td>\n",
       "      <td>0</td>\n",
       "      <td>No</td>\n",
       "    </tr>\n",
       "    <tr>\n",
       "      <th>1</th>\n",
       "      <td>5.589978e+14</td>\n",
       "      <td>5642503</td>\n",
       "      <td>M</td>\n",
       "      <td>2016-04-29T16:08:27Z</td>\n",
       "      <td>2016-04-29T00:00:00Z</td>\n",
       "      <td>56</td>\n",
       "      <td>JARDIM DA PENHA</td>\n",
       "      <td>0</td>\n",
       "      <td>0</td>\n",
       "      <td>0</td>\n",
       "      <td>0</td>\n",
       "      <td>0</td>\n",
       "      <td>0</td>\n",
       "      <td>No</td>\n",
       "    </tr>\n",
       "    <tr>\n",
       "      <th>2</th>\n",
       "      <td>4.262962e+12</td>\n",
       "      <td>5642549</td>\n",
       "      <td>F</td>\n",
       "      <td>2016-04-29T16:19:04Z</td>\n",
       "      <td>2016-04-29T00:00:00Z</td>\n",
       "      <td>62</td>\n",
       "      <td>MATA DA PRAIA</td>\n",
       "      <td>0</td>\n",
       "      <td>0</td>\n",
       "      <td>0</td>\n",
       "      <td>0</td>\n",
       "      <td>0</td>\n",
       "      <td>0</td>\n",
       "      <td>No</td>\n",
       "    </tr>\n",
       "    <tr>\n",
       "      <th>3</th>\n",
       "      <td>8.679512e+11</td>\n",
       "      <td>5642828</td>\n",
       "      <td>F</td>\n",
       "      <td>2016-04-29T17:29:31Z</td>\n",
       "      <td>2016-04-29T00:00:00Z</td>\n",
       "      <td>8</td>\n",
       "      <td>PONTAL DE CAMBURI</td>\n",
       "      <td>0</td>\n",
       "      <td>0</td>\n",
       "      <td>0</td>\n",
       "      <td>0</td>\n",
       "      <td>0</td>\n",
       "      <td>0</td>\n",
       "      <td>No</td>\n",
       "    </tr>\n",
       "    <tr>\n",
       "      <th>4</th>\n",
       "      <td>8.841186e+12</td>\n",
       "      <td>5642494</td>\n",
       "      <td>F</td>\n",
       "      <td>2016-04-29T16:07:23Z</td>\n",
       "      <td>2016-04-29T00:00:00Z</td>\n",
       "      <td>56</td>\n",
       "      <td>JARDIM DA PENHA</td>\n",
       "      <td>0</td>\n",
       "      <td>1</td>\n",
       "      <td>1</td>\n",
       "      <td>0</td>\n",
       "      <td>0</td>\n",
       "      <td>0</td>\n",
       "      <td>No</td>\n",
       "    </tr>\n",
       "  </tbody>\n",
       "</table>\n",
       "</div>"
      ],
      "text/plain": [
       "      PatientId  AppointmentID Gender          ScheduledDay  \\\n",
       "0  2.987250e+13        5642903      F  2016-04-29T18:38:08Z   \n",
       "1  5.589978e+14        5642503      M  2016-04-29T16:08:27Z   \n",
       "2  4.262962e+12        5642549      F  2016-04-29T16:19:04Z   \n",
       "3  8.679512e+11        5642828      F  2016-04-29T17:29:31Z   \n",
       "4  8.841186e+12        5642494      F  2016-04-29T16:07:23Z   \n",
       "\n",
       "         AppointmentDay  Age      Neighbourhood  Scholarship  Hipertension  \\\n",
       "0  2016-04-29T00:00:00Z   62    JARDIM DA PENHA            0             1   \n",
       "1  2016-04-29T00:00:00Z   56    JARDIM DA PENHA            0             0   \n",
       "2  2016-04-29T00:00:00Z   62      MATA DA PRAIA            0             0   \n",
       "3  2016-04-29T00:00:00Z    8  PONTAL DE CAMBURI            0             0   \n",
       "4  2016-04-29T00:00:00Z   56    JARDIM DA PENHA            0             1   \n",
       "\n",
       "   Diabetes  Alcoholism  Handcap  SMS_received No-show  \n",
       "0         0           0        0             0      No  \n",
       "1         0           0        0             0      No  \n",
       "2         0           0        0             0      No  \n",
       "3         0           0        0             0      No  \n",
       "4         1           0        0             0      No  "
      ]
     },
     "execution_count": 4,
     "metadata": {},
     "output_type": "execute_result"
    }
   ],
   "source": [
    "# Check the data set first few rows\n",
    "df.head()"
   ]
  },
  {
   "cell_type": "code",
   "execution_count": 5,
   "id": "12a107e0",
   "metadata": {},
   "outputs": [
    {
     "name": "stdout",
     "output_type": "stream",
     "text": [
      "<class 'pandas.core.frame.DataFrame'>\n",
      "RangeIndex: 110527 entries, 0 to 110526\n",
      "Data columns (total 14 columns):\n",
      " #   Column          Non-Null Count   Dtype  \n",
      "---  ------          --------------   -----  \n",
      " 0   PatientId       110527 non-null  float64\n",
      " 1   AppointmentID   110527 non-null  int64  \n",
      " 2   Gender          110527 non-null  object \n",
      " 3   ScheduledDay    110527 non-null  object \n",
      " 4   AppointmentDay  110527 non-null  object \n",
      " 5   Age             110527 non-null  int64  \n",
      " 6   Neighbourhood   110527 non-null  object \n",
      " 7   Scholarship     110527 non-null  int64  \n",
      " 8   Hipertension    110527 non-null  int64  \n",
      " 9   Diabetes        110527 non-null  int64  \n",
      " 10  Alcoholism      110527 non-null  int64  \n",
      " 11  Handcap         110527 non-null  int64  \n",
      " 12  SMS_received    110527 non-null  int64  \n",
      " 13  No-show         110527 non-null  object \n",
      "dtypes: float64(1), int64(8), object(5)\n",
      "memory usage: 11.8+ MB\n"
     ]
    }
   ],
   "source": [
    "# Check the data set for dtypes and missing values\n",
    "df.info()"
   ]
  },
  {
   "cell_type": "markdown",
   "id": "d494fea5",
   "metadata": {},
   "source": [
    "- No missing values.\n",
    "- Many Columns types need to be fixed, we will take care of it in <a href=\"#clean\">Clean the data</a> section."
   ]
  },
  {
   "cell_type": "code",
   "execution_count": 6,
   "id": "d60e3cea",
   "metadata": {},
   "outputs": [
    {
     "data": {
      "text/plain": [
       "0"
      ]
     },
     "execution_count": 6,
     "metadata": {},
     "output_type": "execute_result"
    }
   ],
   "source": [
    "# Check the data for duplicated rows\n",
    "df.duplicated().sum()"
   ]
  },
  {
   "cell_type": "markdown",
   "id": "0668952e",
   "metadata": {},
   "source": [
    "- No duplicates found in the data set."
   ]
  },
  {
   "cell_type": "code",
   "execution_count": 7,
   "id": "cf3014a6",
   "metadata": {
    "scrolled": true
   },
   "outputs": [
    {
     "data": {
      "text/html": [
       "<div>\n",
       "<style scoped>\n",
       "    .dataframe tbody tr th:only-of-type {\n",
       "        vertical-align: middle;\n",
       "    }\n",
       "\n",
       "    .dataframe tbody tr th {\n",
       "        vertical-align: top;\n",
       "    }\n",
       "\n",
       "    .dataframe thead th {\n",
       "        text-align: right;\n",
       "    }\n",
       "</style>\n",
       "<table border=\"1\" class=\"dataframe\">\n",
       "  <thead>\n",
       "    <tr style=\"text-align: right;\">\n",
       "      <th></th>\n",
       "      <th>PatientId</th>\n",
       "      <th>AppointmentID</th>\n",
       "      <th>Age</th>\n",
       "      <th>Scholarship</th>\n",
       "      <th>Hipertension</th>\n",
       "      <th>Diabetes</th>\n",
       "      <th>Alcoholism</th>\n",
       "      <th>Handcap</th>\n",
       "      <th>SMS_received</th>\n",
       "    </tr>\n",
       "  </thead>\n",
       "  <tbody>\n",
       "    <tr>\n",
       "      <th>count</th>\n",
       "      <td>1.105270e+05</td>\n",
       "      <td>1.105270e+05</td>\n",
       "      <td>110527.000000</td>\n",
       "      <td>110527.000000</td>\n",
       "      <td>110527.000000</td>\n",
       "      <td>110527.000000</td>\n",
       "      <td>110527.000000</td>\n",
       "      <td>110527.000000</td>\n",
       "      <td>110527.000000</td>\n",
       "    </tr>\n",
       "    <tr>\n",
       "      <th>mean</th>\n",
       "      <td>1.474963e+14</td>\n",
       "      <td>5.675305e+06</td>\n",
       "      <td>37.088874</td>\n",
       "      <td>0.098266</td>\n",
       "      <td>0.197246</td>\n",
       "      <td>0.071865</td>\n",
       "      <td>0.030400</td>\n",
       "      <td>0.022248</td>\n",
       "      <td>0.321026</td>\n",
       "    </tr>\n",
       "    <tr>\n",
       "      <th>std</th>\n",
       "      <td>2.560949e+14</td>\n",
       "      <td>7.129575e+04</td>\n",
       "      <td>23.110205</td>\n",
       "      <td>0.297675</td>\n",
       "      <td>0.397921</td>\n",
       "      <td>0.258265</td>\n",
       "      <td>0.171686</td>\n",
       "      <td>0.161543</td>\n",
       "      <td>0.466873</td>\n",
       "    </tr>\n",
       "    <tr>\n",
       "      <th>min</th>\n",
       "      <td>3.921784e+04</td>\n",
       "      <td>5.030230e+06</td>\n",
       "      <td>-1.000000</td>\n",
       "      <td>0.000000</td>\n",
       "      <td>0.000000</td>\n",
       "      <td>0.000000</td>\n",
       "      <td>0.000000</td>\n",
       "      <td>0.000000</td>\n",
       "      <td>0.000000</td>\n",
       "    </tr>\n",
       "    <tr>\n",
       "      <th>25%</th>\n",
       "      <td>4.172614e+12</td>\n",
       "      <td>5.640286e+06</td>\n",
       "      <td>18.000000</td>\n",
       "      <td>0.000000</td>\n",
       "      <td>0.000000</td>\n",
       "      <td>0.000000</td>\n",
       "      <td>0.000000</td>\n",
       "      <td>0.000000</td>\n",
       "      <td>0.000000</td>\n",
       "    </tr>\n",
       "    <tr>\n",
       "      <th>50%</th>\n",
       "      <td>3.173184e+13</td>\n",
       "      <td>5.680573e+06</td>\n",
       "      <td>37.000000</td>\n",
       "      <td>0.000000</td>\n",
       "      <td>0.000000</td>\n",
       "      <td>0.000000</td>\n",
       "      <td>0.000000</td>\n",
       "      <td>0.000000</td>\n",
       "      <td>0.000000</td>\n",
       "    </tr>\n",
       "    <tr>\n",
       "      <th>75%</th>\n",
       "      <td>9.439172e+13</td>\n",
       "      <td>5.725524e+06</td>\n",
       "      <td>55.000000</td>\n",
       "      <td>0.000000</td>\n",
       "      <td>0.000000</td>\n",
       "      <td>0.000000</td>\n",
       "      <td>0.000000</td>\n",
       "      <td>0.000000</td>\n",
       "      <td>1.000000</td>\n",
       "    </tr>\n",
       "    <tr>\n",
       "      <th>max</th>\n",
       "      <td>9.999816e+14</td>\n",
       "      <td>5.790484e+06</td>\n",
       "      <td>115.000000</td>\n",
       "      <td>1.000000</td>\n",
       "      <td>1.000000</td>\n",
       "      <td>1.000000</td>\n",
       "      <td>1.000000</td>\n",
       "      <td>4.000000</td>\n",
       "      <td>1.000000</td>\n",
       "    </tr>\n",
       "  </tbody>\n",
       "</table>\n",
       "</div>"
      ],
      "text/plain": [
       "          PatientId  AppointmentID            Age    Scholarship  \\\n",
       "count  1.105270e+05   1.105270e+05  110527.000000  110527.000000   \n",
       "mean   1.474963e+14   5.675305e+06      37.088874       0.098266   \n",
       "std    2.560949e+14   7.129575e+04      23.110205       0.297675   \n",
       "min    3.921784e+04   5.030230e+06      -1.000000       0.000000   \n",
       "25%    4.172614e+12   5.640286e+06      18.000000       0.000000   \n",
       "50%    3.173184e+13   5.680573e+06      37.000000       0.000000   \n",
       "75%    9.439172e+13   5.725524e+06      55.000000       0.000000   \n",
       "max    9.999816e+14   5.790484e+06     115.000000       1.000000   \n",
       "\n",
       "        Hipertension       Diabetes     Alcoholism        Handcap  \\\n",
       "count  110527.000000  110527.000000  110527.000000  110527.000000   \n",
       "mean        0.197246       0.071865       0.030400       0.022248   \n",
       "std         0.397921       0.258265       0.171686       0.161543   \n",
       "min         0.000000       0.000000       0.000000       0.000000   \n",
       "25%         0.000000       0.000000       0.000000       0.000000   \n",
       "50%         0.000000       0.000000       0.000000       0.000000   \n",
       "75%         0.000000       0.000000       0.000000       0.000000   \n",
       "max         1.000000       1.000000       1.000000       4.000000   \n",
       "\n",
       "        SMS_received  \n",
       "count  110527.000000  \n",
       "mean        0.321026  \n",
       "std         0.466873  \n",
       "min         0.000000  \n",
       "25%         0.000000  \n",
       "50%         0.000000  \n",
       "75%         1.000000  \n",
       "max         1.000000  "
      ]
     },
     "execution_count": 7,
     "metadata": {},
     "output_type": "execute_result"
    }
   ],
   "source": [
    "# Check the data for unrealistic numeric data\n",
    "df.describe()"
   ]
  },
  {
   "cell_type": "markdown",
   "id": "9f84523d",
   "metadata": {},
   "source": [
    "- PatientId and AppointmentID should be a string types since they don't have any numeric usability.\n",
    "- Min Age is less than 0, this can't be right and must be dropped from data set.\n",
    "- Max Age is 115 and per https://en.wikipedia.org/wiki/List_of_the_verified_oldest_people this could be possible.\n",
    "- Handcap has min of 0 (for non Handicap) and 1 to 4 values (for the number of Handicap conditions in each patient)."
   ]
  },
  {
   "cell_type": "markdown",
   "id": "73b44c82",
   "metadata": {},
   "source": [
    "<a id='clean'></a>\n",
    "### Clean the data"
   ]
  },
  {
   "cell_type": "markdown",
   "id": "d7a982b5",
   "metadata": {},
   "source": [
    "- We will change patient ID and Appointment ID to a string type (since they do not have any numeric usability)"
   ]
  },
  {
   "cell_type": "code",
   "execution_count": 8,
   "id": "5a7f2b9e",
   "metadata": {},
   "outputs": [],
   "source": [
    "# Fix PatientId type\n",
    "df['PatientId'] = df['PatientId'].astype(int) #to drop the .0 of the float type\n",
    "df['PatientId'] = df['PatientId'].astype(str) #to change the type to string"
   ]
  },
  {
   "cell_type": "code",
   "execution_count": 9,
   "id": "64212e5c",
   "metadata": {},
   "outputs": [],
   "source": [
    "# Fix AppointmentID type\n",
    "df['AppointmentID'] = df['AppointmentID'].astype(str)"
   ]
  },
  {
   "cell_type": "markdown",
   "id": "e1f2adc4",
   "metadata": {},
   "source": [
    "- While inspecting the data set, we noticed that we need to change ScheduledDay and AppointmentDay types to datetime.\n",
    "- Also we noticed that the AppointmentDay time are all set to 0s, so we will drop the time from both variables since we don't have the actual AppointmentDay time and the ScheduledDay time has no effect on weither the patient will Show-up."
   ]
  },
  {
   "cell_type": "code",
   "execution_count": 10,
   "id": "4c9150a1",
   "metadata": {},
   "outputs": [],
   "source": [
    "# Fix ScheduledDay type and time data\n",
    "df['ScheduledDay'] = pd.to_datetime(df['ScheduledDay']).dt.date"
   ]
  },
  {
   "cell_type": "code",
   "execution_count": 11,
   "id": "299af7f5",
   "metadata": {},
   "outputs": [],
   "source": [
    "# Fix AppointmentDay type and time data\n",
    "df['AppointmentDay'] = pd.to_datetime(df['AppointmentDay']).dt.date"
   ]
  },
  {
   "cell_type": "markdown",
   "id": "c942d25f",
   "metadata": {},
   "source": [
    "- Will drop the negative Age"
   ]
  },
  {
   "cell_type": "code",
   "execution_count": 12,
   "id": "bd6c3bd0",
   "metadata": {},
   "outputs": [
    {
     "data": {
      "text/html": [
       "<div>\n",
       "<style scoped>\n",
       "    .dataframe tbody tr th:only-of-type {\n",
       "        vertical-align: middle;\n",
       "    }\n",
       "\n",
       "    .dataframe tbody tr th {\n",
       "        vertical-align: top;\n",
       "    }\n",
       "\n",
       "    .dataframe thead th {\n",
       "        text-align: right;\n",
       "    }\n",
       "</style>\n",
       "<table border=\"1\" class=\"dataframe\">\n",
       "  <thead>\n",
       "    <tr style=\"text-align: right;\">\n",
       "      <th></th>\n",
       "      <th>PatientId</th>\n",
       "      <th>AppointmentID</th>\n",
       "      <th>Gender</th>\n",
       "      <th>ScheduledDay</th>\n",
       "      <th>AppointmentDay</th>\n",
       "      <th>Age</th>\n",
       "      <th>Neighbourhood</th>\n",
       "      <th>Scholarship</th>\n",
       "      <th>Hipertension</th>\n",
       "      <th>Diabetes</th>\n",
       "      <th>Alcoholism</th>\n",
       "      <th>Handcap</th>\n",
       "      <th>SMS_received</th>\n",
       "      <th>No-show</th>\n",
       "    </tr>\n",
       "  </thead>\n",
       "  <tbody>\n",
       "    <tr>\n",
       "      <th>99832</th>\n",
       "      <td>465943158731293</td>\n",
       "      <td>5775010</td>\n",
       "      <td>F</td>\n",
       "      <td>2016-06-06</td>\n",
       "      <td>2016-06-06</td>\n",
       "      <td>-1</td>\n",
       "      <td>ROMÃO</td>\n",
       "      <td>0</td>\n",
       "      <td>0</td>\n",
       "      <td>0</td>\n",
       "      <td>0</td>\n",
       "      <td>0</td>\n",
       "      <td>0</td>\n",
       "      <td>No</td>\n",
       "    </tr>\n",
       "  </tbody>\n",
       "</table>\n",
       "</div>"
      ],
      "text/plain": [
       "             PatientId AppointmentID Gender ScheduledDay AppointmentDay  Age  \\\n",
       "99832  465943158731293       5775010      F   2016-06-06     2016-06-06   -1   \n",
       "\n",
       "      Neighbourhood  Scholarship  Hipertension  Diabetes  Alcoholism  Handcap  \\\n",
       "99832         ROMÃO            0             0         0           0        0   \n",
       "\n",
       "       SMS_received No-show  \n",
       "99832             0      No  "
      ]
     },
     "execution_count": 12,
     "metadata": {},
     "output_type": "execute_result"
    }
   ],
   "source": [
    "# Fix Age range\n",
    "df[df['Age'] < 0] # check for age less than 0"
   ]
  },
  {
   "cell_type": "code",
   "execution_count": 13,
   "id": "b808b8c1",
   "metadata": {
    "scrolled": true
   },
   "outputs": [
    {
     "data": {
      "text/html": [
       "<div>\n",
       "<style scoped>\n",
       "    .dataframe tbody tr th:only-of-type {\n",
       "        vertical-align: middle;\n",
       "    }\n",
       "\n",
       "    .dataframe tbody tr th {\n",
       "        vertical-align: top;\n",
       "    }\n",
       "\n",
       "    .dataframe thead th {\n",
       "        text-align: right;\n",
       "    }\n",
       "</style>\n",
       "<table border=\"1\" class=\"dataframe\">\n",
       "  <thead>\n",
       "    <tr style=\"text-align: right;\">\n",
       "      <th></th>\n",
       "      <th>PatientId</th>\n",
       "      <th>AppointmentID</th>\n",
       "      <th>Gender</th>\n",
       "      <th>ScheduledDay</th>\n",
       "      <th>AppointmentDay</th>\n",
       "      <th>Age</th>\n",
       "      <th>Neighbourhood</th>\n",
       "      <th>Scholarship</th>\n",
       "      <th>Hipertension</th>\n",
       "      <th>Diabetes</th>\n",
       "      <th>Alcoholism</th>\n",
       "      <th>Handcap</th>\n",
       "      <th>SMS_received</th>\n",
       "      <th>No-show</th>\n",
       "    </tr>\n",
       "  </thead>\n",
       "  <tbody>\n",
       "  </tbody>\n",
       "</table>\n",
       "</div>"
      ],
      "text/plain": [
       "Empty DataFrame\n",
       "Columns: [PatientId, AppointmentID, Gender, ScheduledDay, AppointmentDay, Age, Neighbourhood, Scholarship, Hipertension, Diabetes, Alcoholism, Handcap, SMS_received, No-show]\n",
       "Index: []"
      ]
     },
     "execution_count": 13,
     "metadata": {},
     "output_type": "execute_result"
    }
   ],
   "source": [
    "df = df.drop(index= 99832) # drop age less than 0 by index\n",
    "df[df['Age'] < 0] # Verify that age less than 0 was dropped from data set."
   ]
  },
  {
   "cell_type": "markdown",
   "id": "c7cbbc3e",
   "metadata": {},
   "source": [
    "### Add Required Column(s)"
   ]
  },
  {
   "cell_type": "markdown",
   "id": "e5695d29",
   "metadata": {},
   "source": [
    "- We will add a week day column to check if there is a specific day of the week patient doesnt Show up fot there appointment."
   ]
  },
  {
   "cell_type": "code",
   "execution_count": 14,
   "id": "db1b3d7d",
   "metadata": {},
   "outputs": [],
   "source": [
    "# Add WeekDay column\n",
    "df['WeekDay'] = pd.to_datetime(df['AppointmentDay']).dt.day_name()"
   ]
  },
  {
   "cell_type": "markdown",
   "id": "da238a4f",
   "metadata": {},
   "source": [
    "- We will add an awaiting day column to check if longer awaiting days from schedule the appointment to the actual day of the appoinntment affect the Show up forappointment."
   ]
  },
  {
   "cell_type": "code",
   "execution_count": 15,
   "id": "0d6381c0",
   "metadata": {
    "scrolled": true
   },
   "outputs": [],
   "source": [
    "# Add AwaitingDay(s) column\n",
    "df['AwaitingDay(s)'] = df['AppointmentDay'] - df['ScheduledDay']"
   ]
  },
  {
   "cell_type": "code",
   "execution_count": 16,
   "id": "0c29cc88",
   "metadata": {},
   "outputs": [
    {
     "data": {
      "text/html": [
       "<div>\n",
       "<style scoped>\n",
       "    .dataframe tbody tr th:only-of-type {\n",
       "        vertical-align: middle;\n",
       "    }\n",
       "\n",
       "    .dataframe tbody tr th {\n",
       "        vertical-align: top;\n",
       "    }\n",
       "\n",
       "    .dataframe thead th {\n",
       "        text-align: right;\n",
       "    }\n",
       "</style>\n",
       "<table border=\"1\" class=\"dataframe\">\n",
       "  <thead>\n",
       "    <tr style=\"text-align: right;\">\n",
       "      <th></th>\n",
       "      <th>PatientId</th>\n",
       "      <th>AppointmentID</th>\n",
       "      <th>Gender</th>\n",
       "      <th>ScheduledDay</th>\n",
       "      <th>AppointmentDay</th>\n",
       "      <th>Age</th>\n",
       "      <th>Neighbourhood</th>\n",
       "      <th>Scholarship</th>\n",
       "      <th>Hipertension</th>\n",
       "      <th>Diabetes</th>\n",
       "      <th>Alcoholism</th>\n",
       "      <th>Handcap</th>\n",
       "      <th>SMS_received</th>\n",
       "      <th>No-show</th>\n",
       "      <th>WeekDay</th>\n",
       "      <th>AwaitingDay(s)</th>\n",
       "    </tr>\n",
       "  </thead>\n",
       "  <tbody>\n",
       "    <tr>\n",
       "      <th>27033</th>\n",
       "      <td>7839272661752</td>\n",
       "      <td>5679978</td>\n",
       "      <td>M</td>\n",
       "      <td>2016-05-10</td>\n",
       "      <td>2016-05-09</td>\n",
       "      <td>38</td>\n",
       "      <td>RESISTÊNCIA</td>\n",
       "      <td>0</td>\n",
       "      <td>0</td>\n",
       "      <td>0</td>\n",
       "      <td>0</td>\n",
       "      <td>1</td>\n",
       "      <td>0</td>\n",
       "      <td>Yes</td>\n",
       "      <td>Monday</td>\n",
       "      <td>-1 days</td>\n",
       "    </tr>\n",
       "    <tr>\n",
       "      <th>55226</th>\n",
       "      <td>7896293967868</td>\n",
       "      <td>5715660</td>\n",
       "      <td>F</td>\n",
       "      <td>2016-05-18</td>\n",
       "      <td>2016-05-17</td>\n",
       "      <td>19</td>\n",
       "      <td>SANTO ANTÔNIO</td>\n",
       "      <td>0</td>\n",
       "      <td>0</td>\n",
       "      <td>0</td>\n",
       "      <td>0</td>\n",
       "      <td>1</td>\n",
       "      <td>0</td>\n",
       "      <td>Yes</td>\n",
       "      <td>Tuesday</td>\n",
       "      <td>-1 days</td>\n",
       "    </tr>\n",
       "    <tr>\n",
       "      <th>64175</th>\n",
       "      <td>24252258389979</td>\n",
       "      <td>5664962</td>\n",
       "      <td>F</td>\n",
       "      <td>2016-05-05</td>\n",
       "      <td>2016-05-04</td>\n",
       "      <td>22</td>\n",
       "      <td>CONSOLAÇÃO</td>\n",
       "      <td>0</td>\n",
       "      <td>0</td>\n",
       "      <td>0</td>\n",
       "      <td>0</td>\n",
       "      <td>0</td>\n",
       "      <td>0</td>\n",
       "      <td>Yes</td>\n",
       "      <td>Wednesday</td>\n",
       "      <td>-1 days</td>\n",
       "    </tr>\n",
       "    <tr>\n",
       "      <th>71533</th>\n",
       "      <td>998231581612122</td>\n",
       "      <td>5686628</td>\n",
       "      <td>F</td>\n",
       "      <td>2016-05-11</td>\n",
       "      <td>2016-05-05</td>\n",
       "      <td>81</td>\n",
       "      <td>SANTO ANTÔNIO</td>\n",
       "      <td>0</td>\n",
       "      <td>0</td>\n",
       "      <td>0</td>\n",
       "      <td>0</td>\n",
       "      <td>0</td>\n",
       "      <td>0</td>\n",
       "      <td>Yes</td>\n",
       "      <td>Thursday</td>\n",
       "      <td>-6 days</td>\n",
       "    </tr>\n",
       "    <tr>\n",
       "      <th>72362</th>\n",
       "      <td>3787481966821</td>\n",
       "      <td>5655637</td>\n",
       "      <td>M</td>\n",
       "      <td>2016-05-04</td>\n",
       "      <td>2016-05-03</td>\n",
       "      <td>7</td>\n",
       "      <td>TABUAZEIRO</td>\n",
       "      <td>0</td>\n",
       "      <td>0</td>\n",
       "      <td>0</td>\n",
       "      <td>0</td>\n",
       "      <td>0</td>\n",
       "      <td>0</td>\n",
       "      <td>Yes</td>\n",
       "      <td>Tuesday</td>\n",
       "      <td>-1 days</td>\n",
       "    </tr>\n",
       "  </tbody>\n",
       "</table>\n",
       "</div>"
      ],
      "text/plain": [
       "             PatientId AppointmentID Gender ScheduledDay AppointmentDay  Age  \\\n",
       "27033    7839272661752       5679978      M   2016-05-10     2016-05-09   38   \n",
       "55226    7896293967868       5715660      F   2016-05-18     2016-05-17   19   \n",
       "64175   24252258389979       5664962      F   2016-05-05     2016-05-04   22   \n",
       "71533  998231581612122       5686628      F   2016-05-11     2016-05-05   81   \n",
       "72362    3787481966821       5655637      M   2016-05-04     2016-05-03    7   \n",
       "\n",
       "       Neighbourhood  Scholarship  Hipertension  Diabetes  Alcoholism  \\\n",
       "27033    RESISTÊNCIA            0             0         0           0   \n",
       "55226  SANTO ANTÔNIO            0             0         0           0   \n",
       "64175     CONSOLAÇÃO            0             0         0           0   \n",
       "71533  SANTO ANTÔNIO            0             0         0           0   \n",
       "72362     TABUAZEIRO            0             0         0           0   \n",
       "\n",
       "       Handcap  SMS_received No-show    WeekDay AwaitingDay(s)  \n",
       "27033        1             0     Yes     Monday        -1 days  \n",
       "55226        1             0     Yes    Tuesday        -1 days  \n",
       "64175        0             0     Yes  Wednesday        -1 days  \n",
       "71533        0             0     Yes   Thursday        -6 days  \n",
       "72362        0             0     Yes    Tuesday        -1 days  "
      ]
     },
     "execution_count": 16,
     "metadata": {},
     "output_type": "execute_result"
    }
   ],
   "source": [
    "# Check for unrealistic data in AwaitingDay(s) column.\n",
    "df[df['AwaitingDay(s)'] < '0 days']"
   ]
  },
  {
   "cell_type": "code",
   "execution_count": 17,
   "id": "9bb8467e",
   "metadata": {},
   "outputs": [
    {
     "data": {
      "text/plain": [
       "Int64Index([27033, 55226, 64175, 71533, 72362], dtype='int64')"
      ]
     },
     "execution_count": 17,
     "metadata": {},
     "output_type": "execute_result"
    }
   ],
   "source": [
    "# Get the indexes to drop from data set.\n",
    "drop_index = df[df['AwaitingDay(s)'] < '0 days'].index\n",
    "drop_index"
   ]
  },
  {
   "cell_type": "code",
   "execution_count": 18,
   "id": "01f51a78",
   "metadata": {},
   "outputs": [
    {
     "data": {
      "text/html": [
       "<div>\n",
       "<style scoped>\n",
       "    .dataframe tbody tr th:only-of-type {\n",
       "        vertical-align: middle;\n",
       "    }\n",
       "\n",
       "    .dataframe tbody tr th {\n",
       "        vertical-align: top;\n",
       "    }\n",
       "\n",
       "    .dataframe thead th {\n",
       "        text-align: right;\n",
       "    }\n",
       "</style>\n",
       "<table border=\"1\" class=\"dataframe\">\n",
       "  <thead>\n",
       "    <tr style=\"text-align: right;\">\n",
       "      <th></th>\n",
       "      <th>PatientId</th>\n",
       "      <th>AppointmentID</th>\n",
       "      <th>Gender</th>\n",
       "      <th>ScheduledDay</th>\n",
       "      <th>AppointmentDay</th>\n",
       "      <th>Age</th>\n",
       "      <th>Neighbourhood</th>\n",
       "      <th>Scholarship</th>\n",
       "      <th>Hipertension</th>\n",
       "      <th>Diabetes</th>\n",
       "      <th>Alcoholism</th>\n",
       "      <th>Handcap</th>\n",
       "      <th>SMS_received</th>\n",
       "      <th>No-show</th>\n",
       "      <th>WeekDay</th>\n",
       "      <th>AwaitingDay(s)</th>\n",
       "    </tr>\n",
       "  </thead>\n",
       "  <tbody>\n",
       "  </tbody>\n",
       "</table>\n",
       "</div>"
      ],
      "text/plain": [
       "Empty DataFrame\n",
       "Columns: [PatientId, AppointmentID, Gender, ScheduledDay, AppointmentDay, Age, Neighbourhood, Scholarship, Hipertension, Diabetes, Alcoholism, Handcap, SMS_received, No-show, WeekDay, AwaitingDay(s)]\n",
       "Index: []"
      ]
     },
     "execution_count": 18,
     "metadata": {},
     "output_type": "execute_result"
    }
   ],
   "source": [
    "# Drop the indexes\n",
    "df = df.drop(drop_index)\n",
    "df[df['AwaitingDay(s)'] < '0 days'] # Verify indexes have been dropped"
   ]
  },
  {
   "cell_type": "code",
   "execution_count": 19,
   "id": "a248d8cf",
   "metadata": {},
   "outputs": [],
   "source": [
    "#fix the index after deleting rows\n",
    "df = df.reset_index(drop=True)"
   ]
  },
  {
   "cell_type": "code",
   "execution_count": 20,
   "id": "daa29c61",
   "metadata": {
    "scrolled": false
   },
   "outputs": [
    {
     "data": {
      "text/html": [
       "<div>\n",
       "<style scoped>\n",
       "    .dataframe tbody tr th:only-of-type {\n",
       "        vertical-align: middle;\n",
       "    }\n",
       "\n",
       "    .dataframe tbody tr th {\n",
       "        vertical-align: top;\n",
       "    }\n",
       "\n",
       "    .dataframe thead th {\n",
       "        text-align: right;\n",
       "    }\n",
       "</style>\n",
       "<table border=\"1\" class=\"dataframe\">\n",
       "  <thead>\n",
       "    <tr style=\"text-align: right;\">\n",
       "      <th></th>\n",
       "      <th>PatientId</th>\n",
       "      <th>AppointmentID</th>\n",
       "      <th>Gender</th>\n",
       "      <th>Age</th>\n",
       "      <th>ScheduledDay</th>\n",
       "      <th>AppointmentDay</th>\n",
       "      <th>WeekDay</th>\n",
       "      <th>AwaitingDay(s)</th>\n",
       "      <th>Neighbourhood</th>\n",
       "      <th>Scholarship</th>\n",
       "      <th>Hipertension</th>\n",
       "      <th>Diabetes</th>\n",
       "      <th>Alcoholism</th>\n",
       "      <th>Handcap</th>\n",
       "      <th>SMS_received</th>\n",
       "      <th>No-show</th>\n",
       "    </tr>\n",
       "  </thead>\n",
       "  <tbody>\n",
       "    <tr>\n",
       "      <th>0</th>\n",
       "      <td>29872499824296</td>\n",
       "      <td>5642903</td>\n",
       "      <td>F</td>\n",
       "      <td>62</td>\n",
       "      <td>2016-04-29</td>\n",
       "      <td>2016-04-29</td>\n",
       "      <td>Friday</td>\n",
       "      <td>0 days</td>\n",
       "      <td>JARDIM DA PENHA</td>\n",
       "      <td>0</td>\n",
       "      <td>1</td>\n",
       "      <td>0</td>\n",
       "      <td>0</td>\n",
       "      <td>0</td>\n",
       "      <td>0</td>\n",
       "      <td>No</td>\n",
       "    </tr>\n",
       "  </tbody>\n",
       "</table>\n",
       "</div>"
      ],
      "text/plain": [
       "        PatientId AppointmentID Gender  Age ScheduledDay AppointmentDay  \\\n",
       "0  29872499824296       5642903      F   62   2016-04-29     2016-04-29   \n",
       "\n",
       "  WeekDay AwaitingDay(s)    Neighbourhood  Scholarship  Hipertension  \\\n",
       "0  Friday         0 days  JARDIM DA PENHA            0             1   \n",
       "\n",
       "   Diabetes  Alcoholism  Handcap  SMS_received No-show  \n",
       "0         0           0        0             0      No  "
      ]
     },
     "execution_count": 20,
     "metadata": {},
     "output_type": "execute_result"
    }
   ],
   "source": [
    "# Re-arrange data set column labels\n",
    "df = df[['PatientId', 'AppointmentID', 'Gender', 'Age', 'ScheduledDay',\n",
    "       'AppointmentDay', 'WeekDay', 'AwaitingDay(s)', 'Neighbourhood', 'Scholarship', 'Hipertension',\n",
    "       'Diabetes', 'Alcoholism', 'Handcap', 'SMS_received', 'No-show']]\n",
    "df.head(1) # Check the new arrangement of the columns"
   ]
  },
  {
   "cell_type": "markdown",
   "id": "d360d117",
   "metadata": {},
   "source": [
    "### Data set check after cleaning."
   ]
  },
  {
   "cell_type": "code",
   "execution_count": 21,
   "id": "7ac60248",
   "metadata": {},
   "outputs": [
    {
     "data": {
      "text/plain": [
       "(110521, 16)"
      ]
     },
     "execution_count": 21,
     "metadata": {},
     "output_type": "execute_result"
    }
   ],
   "source": [
    "# data set shape\n",
    "df.shape"
   ]
  },
  {
   "cell_type": "markdown",
   "id": "07d24134",
   "metadata": {},
   "source": [
    "- Our data set now has 110521 rows and 16 columns."
   ]
  },
  {
   "cell_type": "code",
   "execution_count": 22,
   "id": "4c44575e",
   "metadata": {
    "scrolled": true
   },
   "outputs": [
    {
     "data": {
      "text/html": [
       "<div>\n",
       "<style scoped>\n",
       "    .dataframe tbody tr th:only-of-type {\n",
       "        vertical-align: middle;\n",
       "    }\n",
       "\n",
       "    .dataframe tbody tr th {\n",
       "        vertical-align: top;\n",
       "    }\n",
       "\n",
       "    .dataframe thead th {\n",
       "        text-align: right;\n",
       "    }\n",
       "</style>\n",
       "<table border=\"1\" class=\"dataframe\">\n",
       "  <thead>\n",
       "    <tr style=\"text-align: right;\">\n",
       "      <th></th>\n",
       "      <th>PatientId</th>\n",
       "      <th>AppointmentID</th>\n",
       "      <th>Gender</th>\n",
       "      <th>Age</th>\n",
       "      <th>ScheduledDay</th>\n",
       "      <th>AppointmentDay</th>\n",
       "      <th>WeekDay</th>\n",
       "      <th>AwaitingDay(s)</th>\n",
       "      <th>Neighbourhood</th>\n",
       "      <th>Scholarship</th>\n",
       "      <th>Hipertension</th>\n",
       "      <th>Diabetes</th>\n",
       "      <th>Alcoholism</th>\n",
       "      <th>Handcap</th>\n",
       "      <th>SMS_received</th>\n",
       "      <th>No-show</th>\n",
       "    </tr>\n",
       "  </thead>\n",
       "  <tbody>\n",
       "    <tr>\n",
       "      <th>0</th>\n",
       "      <td>29872499824296</td>\n",
       "      <td>5642903</td>\n",
       "      <td>F</td>\n",
       "      <td>62</td>\n",
       "      <td>2016-04-29</td>\n",
       "      <td>2016-04-29</td>\n",
       "      <td>Friday</td>\n",
       "      <td>0 days</td>\n",
       "      <td>JARDIM DA PENHA</td>\n",
       "      <td>0</td>\n",
       "      <td>1</td>\n",
       "      <td>0</td>\n",
       "      <td>0</td>\n",
       "      <td>0</td>\n",
       "      <td>0</td>\n",
       "      <td>No</td>\n",
       "    </tr>\n",
       "    <tr>\n",
       "      <th>1</th>\n",
       "      <td>558997776694438</td>\n",
       "      <td>5642503</td>\n",
       "      <td>M</td>\n",
       "      <td>56</td>\n",
       "      <td>2016-04-29</td>\n",
       "      <td>2016-04-29</td>\n",
       "      <td>Friday</td>\n",
       "      <td>0 days</td>\n",
       "      <td>JARDIM DA PENHA</td>\n",
       "      <td>0</td>\n",
       "      <td>0</td>\n",
       "      <td>0</td>\n",
       "      <td>0</td>\n",
       "      <td>0</td>\n",
       "      <td>0</td>\n",
       "      <td>No</td>\n",
       "    </tr>\n",
       "    <tr>\n",
       "      <th>2</th>\n",
       "      <td>4262962299951</td>\n",
       "      <td>5642549</td>\n",
       "      <td>F</td>\n",
       "      <td>62</td>\n",
       "      <td>2016-04-29</td>\n",
       "      <td>2016-04-29</td>\n",
       "      <td>Friday</td>\n",
       "      <td>0 days</td>\n",
       "      <td>MATA DA PRAIA</td>\n",
       "      <td>0</td>\n",
       "      <td>0</td>\n",
       "      <td>0</td>\n",
       "      <td>0</td>\n",
       "      <td>0</td>\n",
       "      <td>0</td>\n",
       "      <td>No</td>\n",
       "    </tr>\n",
       "    <tr>\n",
       "      <th>3</th>\n",
       "      <td>867951213174</td>\n",
       "      <td>5642828</td>\n",
       "      <td>F</td>\n",
       "      <td>8</td>\n",
       "      <td>2016-04-29</td>\n",
       "      <td>2016-04-29</td>\n",
       "      <td>Friday</td>\n",
       "      <td>0 days</td>\n",
       "      <td>PONTAL DE CAMBURI</td>\n",
       "      <td>0</td>\n",
       "      <td>0</td>\n",
       "      <td>0</td>\n",
       "      <td>0</td>\n",
       "      <td>0</td>\n",
       "      <td>0</td>\n",
       "      <td>No</td>\n",
       "    </tr>\n",
       "    <tr>\n",
       "      <th>4</th>\n",
       "      <td>8841186448183</td>\n",
       "      <td>5642494</td>\n",
       "      <td>F</td>\n",
       "      <td>56</td>\n",
       "      <td>2016-04-29</td>\n",
       "      <td>2016-04-29</td>\n",
       "      <td>Friday</td>\n",
       "      <td>0 days</td>\n",
       "      <td>JARDIM DA PENHA</td>\n",
       "      <td>0</td>\n",
       "      <td>1</td>\n",
       "      <td>1</td>\n",
       "      <td>0</td>\n",
       "      <td>0</td>\n",
       "      <td>0</td>\n",
       "      <td>No</td>\n",
       "    </tr>\n",
       "  </tbody>\n",
       "</table>\n",
       "</div>"
      ],
      "text/plain": [
       "         PatientId AppointmentID Gender  Age ScheduledDay AppointmentDay  \\\n",
       "0   29872499824296       5642903      F   62   2016-04-29     2016-04-29   \n",
       "1  558997776694438       5642503      M   56   2016-04-29     2016-04-29   \n",
       "2    4262962299951       5642549      F   62   2016-04-29     2016-04-29   \n",
       "3     867951213174       5642828      F    8   2016-04-29     2016-04-29   \n",
       "4    8841186448183       5642494      F   56   2016-04-29     2016-04-29   \n",
       "\n",
       "  WeekDay AwaitingDay(s)      Neighbourhood  Scholarship  Hipertension  \\\n",
       "0  Friday         0 days    JARDIM DA PENHA            0             1   \n",
       "1  Friday         0 days    JARDIM DA PENHA            0             0   \n",
       "2  Friday         0 days      MATA DA PRAIA            0             0   \n",
       "3  Friday         0 days  PONTAL DE CAMBURI            0             0   \n",
       "4  Friday         0 days    JARDIM DA PENHA            0             1   \n",
       "\n",
       "   Diabetes  Alcoholism  Handcap  SMS_received No-show  \n",
       "0         0           0        0             0      No  \n",
       "1         0           0        0             0      No  \n",
       "2         0           0        0             0      No  \n",
       "3         0           0        0             0      No  \n",
       "4         1           0        0             0      No  "
      ]
     },
     "execution_count": 22,
     "metadata": {},
     "output_type": "execute_result"
    }
   ],
   "source": [
    "# Check the data set first few rows\n",
    "df.head()"
   ]
  },
  {
   "cell_type": "code",
   "execution_count": 23,
   "id": "de49beb3",
   "metadata": {
    "scrolled": true
   },
   "outputs": [
    {
     "name": "stdout",
     "output_type": "stream",
     "text": [
      "<class 'pandas.core.frame.DataFrame'>\n",
      "RangeIndex: 110521 entries, 0 to 110520\n",
      "Data columns (total 16 columns):\n",
      " #   Column          Non-Null Count   Dtype          \n",
      "---  ------          --------------   -----          \n",
      " 0   PatientId       110521 non-null  object         \n",
      " 1   AppointmentID   110521 non-null  object         \n",
      " 2   Gender          110521 non-null  object         \n",
      " 3   Age             110521 non-null  int64          \n",
      " 4   ScheduledDay    110521 non-null  object         \n",
      " 5   AppointmentDay  110521 non-null  object         \n",
      " 6   WeekDay         110521 non-null  object         \n",
      " 7   AwaitingDay(s)  110521 non-null  timedelta64[ns]\n",
      " 8   Neighbourhood   110521 non-null  object         \n",
      " 9   Scholarship     110521 non-null  int64          \n",
      " 10  Hipertension    110521 non-null  int64          \n",
      " 11  Diabetes        110521 non-null  int64          \n",
      " 12  Alcoholism      110521 non-null  int64          \n",
      " 13  Handcap         110521 non-null  int64          \n",
      " 14  SMS_received    110521 non-null  int64          \n",
      " 15  No-show         110521 non-null  object         \n",
      "dtypes: int64(7), object(8), timedelta64[ns](1)\n",
      "memory usage: 13.5+ MB\n"
     ]
    }
   ],
   "source": [
    "# Check the data set for dtypes and missing values\n",
    "df.info()"
   ]
  },
  {
   "cell_type": "code",
   "execution_count": 24,
   "id": "684cff36",
   "metadata": {
    "scrolled": true
   },
   "outputs": [
    {
     "data": {
      "text/html": [
       "<div>\n",
       "<style scoped>\n",
       "    .dataframe tbody tr th:only-of-type {\n",
       "        vertical-align: middle;\n",
       "    }\n",
       "\n",
       "    .dataframe tbody tr th {\n",
       "        vertical-align: top;\n",
       "    }\n",
       "\n",
       "    .dataframe thead th {\n",
       "        text-align: right;\n",
       "    }\n",
       "</style>\n",
       "<table border=\"1\" class=\"dataframe\">\n",
       "  <thead>\n",
       "    <tr style=\"text-align: right;\">\n",
       "      <th></th>\n",
       "      <th>Age</th>\n",
       "      <th>AwaitingDay(s)</th>\n",
       "      <th>Scholarship</th>\n",
       "      <th>Hipertension</th>\n",
       "      <th>Diabetes</th>\n",
       "      <th>Alcoholism</th>\n",
       "      <th>Handcap</th>\n",
       "      <th>SMS_received</th>\n",
       "    </tr>\n",
       "  </thead>\n",
       "  <tbody>\n",
       "    <tr>\n",
       "      <th>count</th>\n",
       "      <td>110521.000000</td>\n",
       "      <td>110521</td>\n",
       "      <td>110521.000000</td>\n",
       "      <td>110521.000000</td>\n",
       "      <td>110521.000000</td>\n",
       "      <td>110521.000000</td>\n",
       "      <td>110521.000000</td>\n",
       "      <td>110521.000000</td>\n",
       "    </tr>\n",
       "    <tr>\n",
       "      <th>mean</th>\n",
       "      <td>37.089386</td>\n",
       "      <td>10 days 04:25:27.412889858</td>\n",
       "      <td>0.098271</td>\n",
       "      <td>0.197257</td>\n",
       "      <td>0.071869</td>\n",
       "      <td>0.030401</td>\n",
       "      <td>0.022231</td>\n",
       "      <td>0.321043</td>\n",
       "    </tr>\n",
       "    <tr>\n",
       "      <th>std</th>\n",
       "      <td>23.109885</td>\n",
       "      <td>15 days 06:07:25.262183605</td>\n",
       "      <td>0.297682</td>\n",
       "      <td>0.397929</td>\n",
       "      <td>0.258272</td>\n",
       "      <td>0.171690</td>\n",
       "      <td>0.161494</td>\n",
       "      <td>0.466879</td>\n",
       "    </tr>\n",
       "    <tr>\n",
       "      <th>min</th>\n",
       "      <td>0.000000</td>\n",
       "      <td>0 days 00:00:00</td>\n",
       "      <td>0.000000</td>\n",
       "      <td>0.000000</td>\n",
       "      <td>0.000000</td>\n",
       "      <td>0.000000</td>\n",
       "      <td>0.000000</td>\n",
       "      <td>0.000000</td>\n",
       "    </tr>\n",
       "    <tr>\n",
       "      <th>25%</th>\n",
       "      <td>18.000000</td>\n",
       "      <td>0 days 00:00:00</td>\n",
       "      <td>0.000000</td>\n",
       "      <td>0.000000</td>\n",
       "      <td>0.000000</td>\n",
       "      <td>0.000000</td>\n",
       "      <td>0.000000</td>\n",
       "      <td>0.000000</td>\n",
       "    </tr>\n",
       "    <tr>\n",
       "      <th>50%</th>\n",
       "      <td>37.000000</td>\n",
       "      <td>4 days 00:00:00</td>\n",
       "      <td>0.000000</td>\n",
       "      <td>0.000000</td>\n",
       "      <td>0.000000</td>\n",
       "      <td>0.000000</td>\n",
       "      <td>0.000000</td>\n",
       "      <td>0.000000</td>\n",
       "    </tr>\n",
       "    <tr>\n",
       "      <th>75%</th>\n",
       "      <td>55.000000</td>\n",
       "      <td>15 days 00:00:00</td>\n",
       "      <td>0.000000</td>\n",
       "      <td>0.000000</td>\n",
       "      <td>0.000000</td>\n",
       "      <td>0.000000</td>\n",
       "      <td>0.000000</td>\n",
       "      <td>1.000000</td>\n",
       "    </tr>\n",
       "    <tr>\n",
       "      <th>max</th>\n",
       "      <td>115.000000</td>\n",
       "      <td>179 days 00:00:00</td>\n",
       "      <td>1.000000</td>\n",
       "      <td>1.000000</td>\n",
       "      <td>1.000000</td>\n",
       "      <td>1.000000</td>\n",
       "      <td>4.000000</td>\n",
       "      <td>1.000000</td>\n",
       "    </tr>\n",
       "  </tbody>\n",
       "</table>\n",
       "</div>"
      ],
      "text/plain": [
       "                 Age              AwaitingDay(s)    Scholarship  \\\n",
       "count  110521.000000                      110521  110521.000000   \n",
       "mean       37.089386  10 days 04:25:27.412889858       0.098271   \n",
       "std        23.109885  15 days 06:07:25.262183605       0.297682   \n",
       "min         0.000000             0 days 00:00:00       0.000000   \n",
       "25%        18.000000             0 days 00:00:00       0.000000   \n",
       "50%        37.000000             4 days 00:00:00       0.000000   \n",
       "75%        55.000000            15 days 00:00:00       0.000000   \n",
       "max       115.000000           179 days 00:00:00       1.000000   \n",
       "\n",
       "        Hipertension       Diabetes     Alcoholism        Handcap  \\\n",
       "count  110521.000000  110521.000000  110521.000000  110521.000000   \n",
       "mean        0.197257       0.071869       0.030401       0.022231   \n",
       "std         0.397929       0.258272       0.171690       0.161494   \n",
       "min         0.000000       0.000000       0.000000       0.000000   \n",
       "25%         0.000000       0.000000       0.000000       0.000000   \n",
       "50%         0.000000       0.000000       0.000000       0.000000   \n",
       "75%         0.000000       0.000000       0.000000       0.000000   \n",
       "max         1.000000       1.000000       1.000000       4.000000   \n",
       "\n",
       "        SMS_received  \n",
       "count  110521.000000  \n",
       "mean        0.321043  \n",
       "std         0.466879  \n",
       "min         0.000000  \n",
       "25%         0.000000  \n",
       "50%         0.000000  \n",
       "75%         1.000000  \n",
       "max         1.000000  "
      ]
     },
     "execution_count": 24,
     "metadata": {},
     "output_type": "execute_result"
    }
   ],
   "source": [
    "# Check the data for unrealistic numeric data\n",
    "df.describe()"
   ]
  },
  {
   "cell_type": "markdown",
   "id": "fd0f56db",
   "metadata": {},
   "source": [
    "### Building functions to avoid repeating code"
   ]
  },
  {
   "cell_type": "code",
   "execution_count": 25,
   "id": "6ea9b0be",
   "metadata": {},
   "outputs": [],
   "source": [
    "#building plot function\n",
    "def plot_bar(df, xvar, normalize=True, rot=0, kind='bar', figsize=(14,6), log=False):\n",
    "    df['No-show'].groupby(df[xvar]).value_counts(normalize=normalize).unstack('No-show').plot(kind=kind, rot=rot, width=0.8, figsize=figsize, log=log, edgecolor='black')\n",
    "    # Add title and format it\n",
    "    plt.title(\"Show/No show for {}\".format(xvar).title(), fontsize = 16, weight = \"bold\")\n",
    "    # Add x label and format it\n",
    "    plt.xlabel(xvar.title(),fontsize = 12, weight = \"bold\")\n",
    "    # Add y label and format it\n",
    "    plt.ylabel(\"Frequency\".title(),fontsize = 12, weight = \"bold\")"
   ]
  },
  {
   "cell_type": "code",
   "execution_count": 26,
   "id": "b9a88ed1",
   "metadata": {},
   "outputs": [],
   "source": [
    "#building plot function\n",
    "def plot_hist(df, bins=20, log=False, xlabel= '\\nVariable\\n'):\n",
    "    df.hist(bins=bins,log=log, color='c', figsize=(14,6))\n",
    "    plt.axvline(df.mean(), color='r', linestyle='dashed', linewidth=2, label='Mean: {:.2f}'.format(df.mean()))\n",
    "    plt.legend()\n",
    "    plt.xlabel(xlabel=xlabel, fontsize = 12,  weight = \"bold\")\n",
    "    plt.ylabel('\\nCount\\n', fontsize = 12,  weight = \"bold\");\n",
    "    "
   ]
  },
  {
   "cell_type": "markdown",
   "id": "29225cbd",
   "metadata": {},
   "source": [
    "<a id='eda'></a>\n",
    "## Exploratory Data Analysis"
   ]
  },
  {
   "cell_type": "markdown",
   "id": "a6f8b7f2",
   "metadata": {},
   "source": [
    "### 1- PatientId Variable"
   ]
  },
  {
   "cell_type": "code",
   "execution_count": 27,
   "id": "6c787168",
   "metadata": {},
   "outputs": [
    {
     "data": {
      "text/plain": [
       "62298"
      ]
     },
     "execution_count": 27,
     "metadata": {},
     "output_type": "execute_result"
    }
   ],
   "source": [
    "# Check the total number of unique patients\n",
    "df.PatientId.nunique()"
   ]
  },
  {
   "cell_type": "markdown",
   "id": "be51c884",
   "metadata": {},
   "source": [
    "- Number of patients in our data set are 62,298 patient.\n",
    "- <b>PatientId variable has no effect on predicting the probability of Show/No Show of the patient.</b>"
   ]
  },
  {
   "cell_type": "markdown",
   "id": "7dfa5823",
   "metadata": {},
   "source": [
    "### 2-  AppointmentID Variable"
   ]
  },
  {
   "cell_type": "code",
   "execution_count": 28,
   "id": "442fc9db",
   "metadata": {},
   "outputs": [
    {
     "data": {
      "text/plain": [
       "110521"
      ]
     },
     "execution_count": 28,
     "metadata": {},
     "output_type": "execute_result"
    }
   ],
   "source": [
    "# Check the total number of unique Appointments\n",
    "df.AppointmentID.nunique()"
   ]
  },
  {
   "cell_type": "markdown",
   "id": "2a82ce0d",
   "metadata": {},
   "source": [
    "- AppointmentID variable is consistent.\n",
    "- <b>AppointmentID variable has no effect on predicting the probability of Show/No Show of the patient.</b>"
   ]
  },
  {
   "cell_type": "markdown",
   "id": "d58977a1",
   "metadata": {},
   "source": [
    "### 3- Gender Variable"
   ]
  },
  {
   "cell_type": "code",
   "execution_count": 29,
   "id": "14085f91",
   "metadata": {},
   "outputs": [
    {
     "data": {
      "text/plain": [
       "110521"
      ]
     },
     "execution_count": 29,
     "metadata": {},
     "output_type": "execute_result"
    }
   ],
   "source": [
    "# Check if the sum of the Male and Female is consistent.\n",
    "df['Gender'].value_counts().sum()"
   ]
  },
  {
   "cell_type": "markdown",
   "id": "0394999a",
   "metadata": {},
   "source": [
    "- Gender variable is consistent."
   ]
  },
  {
   "cell_type": "code",
   "execution_count": 30,
   "id": "e6d053ac",
   "metadata": {},
   "outputs": [
    {
     "data": {
      "text/plain": [
       "F    71836\n",
       "M    38685\n",
       "Name: Gender, dtype: int64"
      ]
     },
     "execution_count": 30,
     "metadata": {},
     "output_type": "execute_result"
    }
   ],
   "source": [
    "# Check if numbers of Females and males are balanced \n",
    "df['Gender'].value_counts()"
   ]
  },
  {
   "cell_type": "markdown",
   "id": "b85a9383",
   "metadata": {},
   "source": [
    "- Gender variable is unbalanced, much more Female patients than Male patients.\n",
    "- In order to analys the data we will use proportional (normalize the numbers). "
   ]
  },
  {
   "cell_type": "code",
   "execution_count": 31,
   "id": "12597965",
   "metadata": {},
   "outputs": [
    {
     "data": {
      "image/png": "[encoded data removed]",
      "text/plain": [
       "<Figure size 1008x432 with 1 Axes>"
      ]
     },
     "metadata": {},
     "output_type": "display_data"
    }
   ],
   "source": [
    "# Check the Show/No Show for Gender variable (after normalizing the numbers) \n",
    "plot_bar(df, 'Gender');"
   ]
  },
  {
   "cell_type": "markdown",
   "id": "f65c297c",
   "metadata": {},
   "source": [
    "- From the plot above, both Females and Males have the same freq. of 0.2 for not showing up.\n",
    "- So, <b>Gender is not significant patameter for the probability of Show/No Show.</b>"
   ]
  },
  {
   "cell_type": "markdown",
   "id": "d9bf2c8f",
   "metadata": {},
   "source": [
    "### 4- Age Variable"
   ]
  },
  {
   "cell_type": "code",
   "execution_count": 32,
   "id": "951357b9",
   "metadata": {},
   "outputs": [
    {
     "data": {
      "text/plain": [
       "110521"
      ]
     },
     "execution_count": 32,
     "metadata": {},
     "output_type": "execute_result"
    }
   ],
   "source": [
    "# Check if Age variable is consistent.\n",
    "df['Age'].value_counts().sum()"
   ]
  },
  {
   "cell_type": "markdown",
   "id": "6d94df44",
   "metadata": {},
   "source": [
    "- Age variable is consistent."
   ]
  },
  {
   "cell_type": "code",
   "execution_count": 33,
   "id": "67e009a0",
   "metadata": {},
   "outputs": [
    {
     "data": {
      "image/png": "[encoded data removed]",
      "text/plain": [
       "<Figure size 1008x432 with 1 Axes>"
      ]
     },
     "metadata": {},
     "output_type": "display_data"
    }
   ],
   "source": [
    "# Plot Histogram for Age to check the balance and mean\n",
    "plot_hist(df['Age'], xlabel='Age')"
   ]
  },
  {
   "cell_type": "markdown",
   "id": "cd100336",
   "metadata": {},
   "source": [
    "- Age is unbalanced as we can see we have much more patient from 0 to 60 than from 70 and above.\n",
    "- So, for our analysis we will normalize the numbers."
   ]
  },
  {
   "cell_type": "code",
   "execution_count": 34,
   "id": "47add4d7",
   "metadata": {
    "scrolled": true
   },
   "outputs": [
    {
     "data": {
      "text/plain": [
       "count    110521.000000\n",
       "mean         37.089386\n",
       "std          23.109885\n",
       "min           0.000000\n",
       "25%          18.000000\n",
       "50%          37.000000\n",
       "75%          55.000000\n",
       "max         115.000000\n",
       "Name: Age, dtype: float64"
      ]
     },
     "execution_count": 34,
     "metadata": {},
     "output_type": "execute_result"
    }
   ],
   "source": [
    "# Check Age (min, max, average and standard deviation)  \n",
    "df['Age'].describe()"
   ]
  },
  {
   "cell_type": "markdown",
   "id": "5bf11331",
   "metadata": {},
   "source": [
    "- Averrage Age is 37 years old"
   ]
  },
  {
   "cell_type": "code",
   "execution_count": 35,
   "id": "907e280f",
   "metadata": {},
   "outputs": [
    {
     "data": {
      "image/png": "[encoded data removed]",
      "text/plain": [
       "<Figure size 1008x432 with 1 Axes>"
      ]
     },
     "metadata": {},
     "output_type": "display_data"
    }
   ],
   "source": [
    "# Box plot for the Age variable\n",
    "fig = plt.figure(figsize =(14, 6))\n",
    "age = df['Age']\n",
    "plt.boxplot(age)\n",
    "plt.xticks([1], ['Age']);"
   ]
  },
  {
   "cell_type": "code",
   "execution_count": 36,
   "id": "0bbee978",
   "metadata": {},
   "outputs": [
    {
     "data": {
      "text/plain": [
       "103"
      ]
     },
     "execution_count": 36,
     "metadata": {},
     "output_type": "execute_result"
    }
   ],
   "source": [
    "# Check the number of unique Age values\n",
    "df['Age'].nunique()"
   ]
  },
  {
   "cell_type": "markdown",
   "id": "2bc65349",
   "metadata": {},
   "source": [
    "- since there is 103 unique value for Age and to better analyis our data set it's better to convert it into Age Groups \n",
    "- Source for Age Group categories used, can be found in this link https://ieeexplore.ieee.org/document/6416855"
   ]
  },
  {
   "cell_type": "code",
   "execution_count": 37,
   "id": "814898fc",
   "metadata": {},
   "outputs": [],
   "source": [
    "# Convert Age into Age Groups \n",
    "bins = [0, 13, 19, 60, 116]\n",
    "labels = ['Child','Teen','Adult','Senior']\n",
    "df['Age_Group'] = pd.cut(df['Age'], bins=bins, labels=labels, include_lowest= True, right= False)"
   ]
  },
  {
   "cell_type": "code",
   "execution_count": 38,
   "id": "0a9f44c6",
   "metadata": {},
   "outputs": [
    {
     "data": {
      "image/png": "[encoded data removed]",
      "text/plain": [
       "<Figure size 1008x432 with 1 Axes>"
      ]
     },
     "metadata": {},
     "output_type": "display_data"
    }
   ],
   "source": [
    "# Check the Show/No Show for Age variable (after normalizing the numbers)\n",
    "plot_bar(df, 'Age_Group');"
   ]
  },
  {
   "cell_type": "markdown",
   "id": "610cb468",
   "metadata": {},
   "source": [
    "- From the plot above,Teen Age has the most probability of not showing up.\n",
    "- Senior Age has the most probability of showing up.\n",
    "- So, <b>Age Group is a significant parameter for the probabilty of Show/No Show.</b>"
   ]
  },
  {
   "cell_type": "markdown",
   "id": "141a338d",
   "metadata": {},
   "source": [
    "### 5- Days Variables"
   ]
  },
  {
   "cell_type": "markdown",
   "id": "3ddfc77a",
   "metadata": {},
   "source": [
    "#### 5.1 Week Day Variable"
   ]
  },
  {
   "cell_type": "code",
   "execution_count": 39,
   "id": "dbb68434",
   "metadata": {},
   "outputs": [
    {
     "data": {
      "text/plain": [
       "Wednesday    25866\n",
       "Tuesday      25638\n",
       "Monday       22713\n",
       "Friday       19019\n",
       "Thursday     17246\n",
       "Saturday        39\n",
       "Name: WeekDay, dtype: int64"
      ]
     },
     "execution_count": 39,
     "metadata": {},
     "output_type": "execute_result"
    }
   ],
   "source": [
    "# Check Appointments made per Week Day\n",
    "df['WeekDay'].value_counts()"
   ]
  },
  {
   "cell_type": "markdown",
   "id": "04f5adac",
   "metadata": {},
   "source": [
    "- The Most busy days are Wednesday, Tuesday and Friday (Mid Week days).\n",
    "- The Least busy day is Saturday (Weekend), maybe due to weekend and less working hours.\n",
    "- No appointments made on Sunday (Weekend), most probably it's a Vacation."
   ]
  },
  {
   "cell_type": "code",
   "execution_count": 40,
   "id": "ca18d044",
   "metadata": {},
   "outputs": [
    {
     "data": {
      "image/png": "[encoded data removed]",
      "text/plain": [
       "<Figure size 1008x432 with 1 Axes>"
      ]
     },
     "metadata": {},
     "output_type": "display_data"
    }
   ],
   "source": [
    "# Check the Show/No Show for WeekDay variable (after normalizing the numbers)\n",
    "plot_bar(df, 'WeekDay')"
   ]
  },
  {
   "cell_type": "markdown",
   "id": "57b2f342",
   "metadata": {},
   "source": [
    "- The most probability of No Show is on Saturday which is a Weekend Day.\n",
    "- There for <b>Weekday is a significant parameter for the probabilty of Show/No Show.</b>"
   ]
  },
  {
   "cell_type": "markdown",
   "id": "b289cd11",
   "metadata": {},
   "source": [
    "#### 5.2 Awaiting Days Variable"
   ]
  },
  {
   "cell_type": "code",
   "execution_count": 41,
   "id": "346f36ab",
   "metadata": {},
   "outputs": [],
   "source": [
    "# Convert AwaitingDay(s) to days dtype\n",
    "df['AwaitingDay(s)'] = df['AwaitingDay(s)'].dt.days\n"
   ]
  },
  {
   "cell_type": "code",
   "execution_count": 42,
   "id": "eaa7c6f4",
   "metadata": {},
   "outputs": [
    {
     "data": {
      "image/png": "[encoded data removed]",
      "text/plain": [
       "<Figure size 1008x432 with 1 Axes>"
      ]
     },
     "metadata": {},
     "output_type": "display_data"
    }
   ],
   "source": [
    "# Plot AwaitingDay(s) histogram with the mean\n",
    "plot_hist(df['AwaitingDay(s)'], 50, True, xlabel='Awaiting Days')"
   ]
  },
  {
   "cell_type": "markdown",
   "id": "f3b74c9d",
   "metadata": {},
   "source": [
    "- The Average Awaiting days is 10 days.\n",
    "- We can see from the histogram that the data is right skewed."
   ]
  },
  {
   "cell_type": "code",
   "execution_count": 43,
   "id": "cfc16215",
   "metadata": {},
   "outputs": [
    {
     "data": {
      "text/plain": [
       "count    110521.000000\n",
       "mean         10.184345\n",
       "std          15.255153\n",
       "min           0.000000\n",
       "25%           0.000000\n",
       "50%           4.000000\n",
       "75%          15.000000\n",
       "max         179.000000\n",
       "Name: AwaitingDay(s), dtype: float64"
      ]
     },
     "execution_count": 43,
     "metadata": {},
     "output_type": "execute_result"
    }
   ],
   "source": [
    "# Further investigation in Awaiting Days variable\n",
    "df['AwaitingDay(s)'].describe()"
   ]
  },
  {
   "cell_type": "markdown",
   "id": "3bdd0eef",
   "metadata": {},
   "source": [
    "- The average awaiting days is 10 days (as mentioned above).\n",
    "- The Standard Deviation is 15 days.\n",
    "- The min awaiting days is 0 days (same day appointement).\n",
    "- The max awaiting days is 179 days.\n",
    "- for better analysis, we will devide awaiting days into intervals."
   ]
  },
  {
   "cell_type": "code",
   "execution_count": 44,
   "id": "bd6d3b89",
   "metadata": {},
   "outputs": [],
   "source": [
    "# Will devide the awaiting days into intervals\n",
    "bins = [0,1,4,8,15,22,31,170]\n",
    "labels = ['Same day', '[1 - 3 days]', '[4 - 7 days]', '[8 - 14 days]', '[15 - 21. days]', '[22 - 30 days]', 'Month+']\n",
    "df['AwaitingDaysIntervals'] = pd.cut(df['AwaitingDay(s)'], bins=bins, labels=labels, include_lowest=True, right=False)"
   ]
  },
  {
   "cell_type": "code",
   "execution_count": 45,
   "id": "5ca20254",
   "metadata": {},
   "outputs": [
    {
     "data": {
      "text/plain": [
       "Same day           38562\n",
       "[4 - 7 days]       17510\n",
       "[1 - 3 days]       14675\n",
       "[8 - 14 days]      12025\n",
       "Month+             10352\n",
       "[15 - 21. days]     8874\n",
       "[22 - 30 days]      8497\n",
       "Name: AwaitingDaysIntervals, dtype: int64"
      ]
     },
     "execution_count": 45,
     "metadata": {},
     "output_type": "execute_result"
    }
   ],
   "source": [
    "# Check Appointments made per Awaiting Days intervals\n",
    "df['AwaitingDaysIntervals'].value_counts()"
   ]
  },
  {
   "cell_type": "markdown",
   "id": "105ce92b",
   "metadata": {},
   "source": [
    "- Most of the Appointments are made Same Day."
   ]
  },
  {
   "cell_type": "code",
   "execution_count": 46,
   "id": "377c7687",
   "metadata": {},
   "outputs": [
    {
     "data": {
      "image/png": "[encoded data removed]",
      "text/plain": [
       "<Figure size 1008x432 with 1 Axes>"
      ]
     },
     "metadata": {},
     "output_type": "display_data"
    }
   ],
   "source": [
    "# Check the Show/No Show for Awaiting Days Interval variable (after normalizing the numbers)\n",
    "plot_bar(df, 'AwaitingDaysIntervals')"
   ]
  },
  {
   "cell_type": "markdown",
   "id": "64c826bc",
   "metadata": {},
   "source": [
    "- The more awaiting days the more probability of No Show\n",
    "- <b>The Awaiting Days is a great significant for the probabilty of Show/No Show</b>"
   ]
  },
  {
   "cell_type": "markdown",
   "id": "59c58450",
   "metadata": {},
   "source": [
    "### 6- Neighbourhood Variable"
   ]
  },
  {
   "cell_type": "code",
   "execution_count": 47,
   "id": "78ef0c81",
   "metadata": {
    "scrolled": false
   },
   "outputs": [
    {
     "data": {
      "image/png": "[encoded data removed]",
      "text/plain": [
       "<Figure size 1296x432 with 1 Axes>"
      ]
     },
     "metadata": {},
     "output_type": "display_data"
    }
   ],
   "source": [
    "# Check the Show/No Show for Neighbourhood variable (after normalizing the numbers)\n",
    "plot_bar(df, 'Neighbourhood', rot=90, figsize=(18,6))"
   ]
  },
  {
   "cell_type": "markdown",
   "id": "83104588",
   "metadata": {},
   "source": [
    "- Show/No Show are average for all Neighbourhoods except two Neighbourhoods \"ILHAS OCEÂNICAS DE TRINDADE\" and \"PARQUE INDUSTRIAL\", they will need further investigation."
   ]
  },
  {
   "cell_type": "code",
   "execution_count": 48,
   "id": "724f4acb",
   "metadata": {
    "scrolled": true
   },
   "outputs": [
    {
     "data": {
      "image/png": "[encoded data removed]",
      "text/plain": [
       "<Figure size 1296x432 with 1 Axes>"
      ]
     },
     "metadata": {},
     "output_type": "display_data"
    }
   ],
   "source": [
    "# Check the Show/No Show for Neighbourhood variable without normalizing the data\n",
    "plot_bar(df, 'Neighbourhood', rot=90, figsize=(18,6), normalize=False, log=True)"
   ]
  },
  {
   "cell_type": "markdown",
   "id": "a0e6cc01",
   "metadata": {},
   "source": [
    "- We can see that both Neighbourhoods \"ILHAS OCEÂNICAS DE TRINDADE\" and \"PARQUE INDUSTRIAL\" have counts less than 10."
   ]
  },
  {
   "cell_type": "code",
   "execution_count": 49,
   "id": "f8d735b6",
   "metadata": {
    "scrolled": true
   },
   "outputs": [
    {
     "data": {
      "text/plain": [
       "JARDIM CAMBURI                 7717\n",
       "MARIA ORTIZ                    5805\n",
       "RESISTÊNCIA                    4430\n",
       "JARDIM DA PENHA                3877\n",
       "ITARARÉ                        3514\n",
       "                               ... \n",
       "ILHA DO BOI                      35\n",
       "ILHA DO FRADE                    10\n",
       "AEROPORTO                         8\n",
       "ILHAS OCEÂNICAS DE TRINDADE       2\n",
       "PARQUE INDUSTRIAL                 1\n",
       "Name: Neighbourhood, Length: 81, dtype: int64"
      ]
     },
     "execution_count": 49,
     "metadata": {},
     "output_type": "execute_result"
    }
   ],
   "source": [
    "# let's investigaye some more\n",
    "df['Neighbourhood'].value_counts()"
   ]
  },
  {
   "cell_type": "markdown",
   "id": "1537f268",
   "metadata": {},
   "source": [
    "- \"ILHAS OCEÂNICAS DE TRINDADE\" have only 2 patients both didn't attend the appointment.\n",
    "- \"PARQUE INDUSTRIAL\" have only 1 patient did attend the appointment.\n",
    "- From the above, <b>Neighbourhood Variable is not significant for the probabilty of Show/No Show.</b>"
   ]
  },
  {
   "cell_type": "markdown",
   "id": "9040b5cb",
   "metadata": {},
   "source": [
    "### 7- Scholarship Variable"
   ]
  },
  {
   "cell_type": "markdown",
   "id": "af9075f3",
   "metadata": {},
   "source": [
    "- After checking https://en.wikipedia.org/wiki/Bolsa_Fam%C3%ADlia to better understand the variable, we can consider patients with scholarship are poor people and the patients without scholarship are not."
   ]
  },
  {
   "cell_type": "code",
   "execution_count": 50,
   "id": "bf61c67b",
   "metadata": {
    "scrolled": true
   },
   "outputs": [
    {
     "data": {
      "text/plain": [
       "0    99660\n",
       "1    10861\n",
       "Name: Scholarship, dtype: int64"
      ]
     },
     "execution_count": 50,
     "metadata": {},
     "output_type": "execute_result"
    }
   ],
   "source": [
    "# Check appointement made by Rich people (0) and Poor people (1)\n",
    "df['Scholarship'].value_counts()"
   ]
  },
  {
   "cell_type": "markdown",
   "id": "743560db",
   "metadata": {},
   "source": [
    "- About 90% of the people made an appointment are without a Scholarship which means they are not poor and not enrolled in <b>Bolsa Familia Program.</b>"
   ]
  },
  {
   "cell_type": "code",
   "execution_count": 51,
   "id": "260902ba",
   "metadata": {
    "scrolled": false
   },
   "outputs": [
    {
     "data": {
      "image/png": "[encoded data removed]",
      "text/plain": [
       "<Figure size 1008x432 with 1 Axes>"
      ]
     },
     "metadata": {},
     "output_type": "display_data"
    }
   ],
   "source": [
    "# Check the Show/No Show for Scholarship variable (after normalizing the numbers)\n",
    "plot_bar(df, 'Scholarship');"
   ]
  },
  {
   "cell_type": "markdown",
   "id": "83caf908",
   "metadata": {},
   "source": [
    "- The probability of No Show increase for poor people.\n",
    "- <b>The Scholarship variable is significant for the probabilty of Show/No Show.</b>"
   ]
  },
  {
   "cell_type": "markdown",
   "id": "18ff6865",
   "metadata": {},
   "source": [
    "### 8- Hipertension Variable"
   ]
  },
  {
   "cell_type": "code",
   "execution_count": 52,
   "id": "63ec18bc",
   "metadata": {
    "scrolled": false
   },
   "outputs": [
    {
     "data": {
      "text/plain": [
       "0    88720\n",
       "1    21801\n",
       "Name: Hipertension, dtype: int64"
      ]
     },
     "execution_count": 52,
     "metadata": {},
     "output_type": "execute_result"
    }
   ],
   "source": [
    "# Check if Hipertension patients are balanced \n",
    "df['Hipertension'].value_counts()"
   ]
  },
  {
   "cell_type": "markdown",
   "id": "698818c9",
   "metadata": {},
   "source": [
    "- Data set is not balanced."
   ]
  },
  {
   "cell_type": "code",
   "execution_count": 53,
   "id": "3851f811",
   "metadata": {},
   "outputs": [
    {
     "data": {
      "image/png": "[encoded data removed]",
      "text/plain": [
       "<Figure size 1008x432 with 1 Axes>"
      ]
     },
     "metadata": {},
     "output_type": "display_data"
    }
   ],
   "source": [
    "# Check the Show/No Show for Hipertension variable (after normalizing the numbers)\n",
    "plot_bar(df, 'Hipertension')"
   ]
  },
  {
   "cell_type": "markdown",
   "id": "febd124f",
   "metadata": {},
   "source": [
    "- The probability of No Show decrease for patient with Hipertension.\n",
    "- <b>The Hipertension variable is significant for the probabilty of Show/No Show.</b>"
   ]
  },
  {
   "cell_type": "markdown",
   "id": "c09fc868",
   "metadata": {},
   "source": [
    "### 9- Diabetes Variable"
   ]
  },
  {
   "cell_type": "code",
   "execution_count": 54,
   "id": "7c17ac3a",
   "metadata": {
    "scrolled": true
   },
   "outputs": [
    {
     "data": {
      "text/plain": [
       "0    102578\n",
       "1      7943\n",
       "Name: Diabetes, dtype: int64"
      ]
     },
     "execution_count": 54,
     "metadata": {},
     "output_type": "execute_result"
    }
   ],
   "source": [
    "# Check if Diabetes patients are balanced \n",
    "df['Diabetes'].value_counts()"
   ]
  },
  {
   "cell_type": "markdown",
   "id": "c457ede6",
   "metadata": {},
   "source": [
    "- Diabetes patients are not balanced."
   ]
  },
  {
   "cell_type": "code",
   "execution_count": 55,
   "id": "83206df9",
   "metadata": {
    "scrolled": false
   },
   "outputs": [
    {
     "data": {
      "image/png": "[encoded data removed]",
      "text/plain": [
       "<Figure size 1008x432 with 1 Axes>"
      ]
     },
     "metadata": {},
     "output_type": "display_data"
    }
   ],
   "source": [
    "# Check the Show/No Show for Diabetes patients (after normalizing the numbers)\n",
    "plot_bar(df, 'Diabetes')"
   ]
  },
  {
   "cell_type": "markdown",
   "id": "dca0743e",
   "metadata": {},
   "source": [
    "- The probability of No Show decrease for patient with Diabetes.\n",
    "- <b>The Diabetes variable is significant for the probabilty of Show/No Show.</b>"
   ]
  },
  {
   "cell_type": "markdown",
   "id": "36f0ac5b",
   "metadata": {},
   "source": [
    "### 10- Alcoholism Variable"
   ]
  },
  {
   "cell_type": "code",
   "execution_count": 56,
   "id": "0c7bf76a",
   "metadata": {
    "scrolled": true
   },
   "outputs": [
    {
     "data": {
      "text/plain": [
       "0    107161\n",
       "1      3360\n",
       "Name: Alcoholism, dtype: int64"
      ]
     },
     "execution_count": 56,
     "metadata": {},
     "output_type": "execute_result"
    }
   ],
   "source": [
    "# Check if Alcoholism patients are balanced \n",
    "df['Alcoholism'].value_counts()"
   ]
  },
  {
   "cell_type": "markdown",
   "id": "b9cdfcb6",
   "metadata": {},
   "source": [
    "- Alcoholism patients are not balanced."
   ]
  },
  {
   "cell_type": "code",
   "execution_count": 57,
   "id": "ccc513ef",
   "metadata": {
    "scrolled": false
   },
   "outputs": [
    {
     "data": {
      "image/png": "[encoded data removed]",
      "text/plain": [
       "<Figure size 1008x432 with 1 Axes>"
      ]
     },
     "metadata": {},
     "output_type": "display_data"
    }
   ],
   "source": [
    "# Check the Show/No Show for Alcoholism patients (after normalizing the numbers)\n",
    "plot_bar(df, 'Alcoholism')"
   ]
  },
  {
   "cell_type": "markdown",
   "id": "1cfd5340",
   "metadata": {},
   "source": [
    "- Alcoholism patients and None Alcoholism patients have the same probability of Show/No Show.\n",
    "- <b>The Alcoholism variable is not significant for the probabilty of Show/No Show.</b>"
   ]
  },
  {
   "cell_type": "markdown",
   "id": "b3bcd4ec",
   "metadata": {},
   "source": [
    "### 11- Handcap Variable"
   ]
  },
  {
   "cell_type": "code",
   "execution_count": 58,
   "id": "c0cb47b8",
   "metadata": {
    "scrolled": true
   },
   "outputs": [
    {
     "data": {
      "text/plain": [
       "0    108282\n",
       "1      2040\n",
       "2       183\n",
       "3        13\n",
       "4         3\n",
       "Name: Handcap, dtype: int64"
      ]
     },
     "execution_count": 58,
     "metadata": {},
     "output_type": "execute_result"
    }
   ],
   "source": [
    "#check data set for patient made an appointement with or without Handicap condition\n",
    "df['Handcap'].value_counts()"
   ]
  },
  {
   "cell_type": "markdown",
   "id": "cc8326c4",
   "metadata": {},
   "source": [
    "- Most of the Patient doesn't have a handicap condition."
   ]
  },
  {
   "cell_type": "code",
   "execution_count": 59,
   "id": "ce43eccb",
   "metadata": {
    "scrolled": true
   },
   "outputs": [
    {
     "data": {
      "image/png": "[encoded data removed]",
      "text/plain": [
       "<Figure size 1008x432 with 1 Axes>"
      ]
     },
     "metadata": {},
     "output_type": "display_data"
    }
   ],
   "source": [
    "# Probabilty of Show/No Show for Handicap (after normalizing the numbers)\n",
    "plot_bar(df, 'Handcap')"
   ]
  },
  {
   "cell_type": "markdown",
   "id": "ec81519b",
   "metadata": {},
   "source": [
    "- Patients with one handicap condition are most likely to show up.\n",
    "- Patients with three or four handicap condition are most likely to No Show.\n",
    "- <b>Number of Handcap condition in a patient is a significant for the probabilty of Show/No Show</b>"
   ]
  },
  {
   "cell_type": "markdown",
   "id": "04550f08",
   "metadata": {},
   "source": [
    "### 12- MultiDisease Variable"
   ]
  },
  {
   "cell_type": "code",
   "execution_count": 60,
   "id": "91b97873",
   "metadata": {},
   "outputs": [],
   "source": [
    "# add a column for number of disease in each patient\n",
    "df['MultiDisease'] = df['Hipertension'] + df['Diabetes'] + df['Alcoholism']"
   ]
  },
  {
   "cell_type": "code",
   "execution_count": 61,
   "id": "130db1a2",
   "metadata": {},
   "outputs": [
    {
     "data": {
      "image/png": "[encoded data removed]",
      "text/plain": [
       "<Figure size 1008x432 with 1 Axes>"
      ]
     },
     "metadata": {},
     "output_type": "display_data"
    }
   ],
   "source": [
    "# Check if the probability of Show/No Show of patient according to the number of disease they have\n",
    "plot_bar(df, 'MultiDisease')"
   ]
  },
  {
   "cell_type": "markdown",
   "id": "4740c1fd",
   "metadata": {},
   "source": [
    "- the probability of No Show more likely with the patient with no disease.\n",
    "- <b>MultiDisease Variable is significant for the probabilty of Show/No Show</b>"
   ]
  },
  {
   "cell_type": "markdown",
   "id": "16f438b8",
   "metadata": {},
   "source": [
    "### 13- SMS_received Variable"
   ]
  },
  {
   "cell_type": "code",
   "execution_count": 62,
   "id": "c4c5d47f",
   "metadata": {},
   "outputs": [
    {
     "data": {
      "text/plain": [
       "0    75039\n",
       "1    35482\n",
       "Name: SMS_received, dtype: int64"
      ]
     },
     "execution_count": 62,
     "metadata": {},
     "output_type": "execute_result"
    }
   ],
   "source": [
    "# Check the number of patients received / didn't receive sms\n",
    "df.SMS_received.value_counts()"
   ]
  },
  {
   "cell_type": "markdown",
   "id": "413e4d68",
   "metadata": {},
   "source": [
    "- Most of patient didnot receive a SMS."
   ]
  },
  {
   "cell_type": "code",
   "execution_count": 63,
   "id": "2353c4f8",
   "metadata": {},
   "outputs": [
    {
     "data": {
      "image/png": "[encoded data removed]",
      "text/plain": [
       "<Figure size 1008x432 with 1 Axes>"
      ]
     },
     "metadata": {},
     "output_type": "display_data"
    }
   ],
   "source": [
    "# Check the probabily of patients Show/No Show according to SMS_received variable\n",
    "plot_bar(df, 'SMS_received')"
   ]
  },
  {
   "cell_type": "markdown",
   "id": "abc43a87",
   "metadata": {},
   "source": [
    "- since most of No Show patients did receive an SMS, SMS_Received has no effect on the probabilty of Show/No Show\n",
    "- <b>SMS_Received Variable is not significant for the probabilty of Show/No Show</b>"
   ]
  },
  {
   "cell_type": "code",
   "execution_count": 64,
   "id": "f0d0e7ab",
   "metadata": {},
   "outputs": [
    {
     "data": {
      "text/html": [
       "<div>\n",
       "<style scoped>\n",
       "    .dataframe tbody tr th:only-of-type {\n",
       "        vertical-align: middle;\n",
       "    }\n",
       "\n",
       "    .dataframe tbody tr th {\n",
       "        vertical-align: top;\n",
       "    }\n",
       "\n",
       "    .dataframe thead th {\n",
       "        text-align: right;\n",
       "    }\n",
       "</style>\n",
       "<table border=\"1\" class=\"dataframe\">\n",
       "  <thead>\n",
       "    <tr style=\"text-align: right;\">\n",
       "      <th></th>\n",
       "      <th>PatientId</th>\n",
       "      <th>AppointmentID</th>\n",
       "      <th>Gender</th>\n",
       "      <th>Age</th>\n",
       "      <th>ScheduledDay</th>\n",
       "      <th>AppointmentDay</th>\n",
       "      <th>WeekDay</th>\n",
       "      <th>AwaitingDay(s)</th>\n",
       "      <th>Neighbourhood</th>\n",
       "      <th>Scholarship</th>\n",
       "      <th>Hipertension</th>\n",
       "      <th>Diabetes</th>\n",
       "      <th>Alcoholism</th>\n",
       "      <th>Handcap</th>\n",
       "      <th>SMS_received</th>\n",
       "      <th>No-show</th>\n",
       "      <th>Age_Group</th>\n",
       "      <th>AwaitingDaysIntervals</th>\n",
       "      <th>MultiDisease</th>\n",
       "    </tr>\n",
       "  </thead>\n",
       "  <tbody>\n",
       "    <tr>\n",
       "      <th>0</th>\n",
       "      <td>29872499824296</td>\n",
       "      <td>5642903</td>\n",
       "      <td>F</td>\n",
       "      <td>62</td>\n",
       "      <td>2016-04-29</td>\n",
       "      <td>2016-04-29</td>\n",
       "      <td>Friday</td>\n",
       "      <td>0</td>\n",
       "      <td>JARDIM DA PENHA</td>\n",
       "      <td>0</td>\n",
       "      <td>1</td>\n",
       "      <td>0</td>\n",
       "      <td>0</td>\n",
       "      <td>0</td>\n",
       "      <td>0</td>\n",
       "      <td>No</td>\n",
       "      <td>Senior</td>\n",
       "      <td>Same day</td>\n",
       "      <td>1</td>\n",
       "    </tr>\n",
       "  </tbody>\n",
       "</table>\n",
       "</div>"
      ],
      "text/plain": [
       "        PatientId AppointmentID Gender  Age ScheduledDay AppointmentDay  \\\n",
       "0  29872499824296       5642903      F   62   2016-04-29     2016-04-29   \n",
       "\n",
       "  WeekDay  AwaitingDay(s)    Neighbourhood  Scholarship  Hipertension  \\\n",
       "0  Friday               0  JARDIM DA PENHA            0             1   \n",
       "\n",
       "   Diabetes  Alcoholism  Handcap  SMS_received No-show Age_Group  \\\n",
       "0         0           0        0             0      No    Senior   \n",
       "\n",
       "  AwaitingDaysIntervals  MultiDisease  \n",
       "0              Same day             1  "
      ]
     },
     "execution_count": 64,
     "metadata": {},
     "output_type": "execute_result"
    }
   ],
   "source": [
    "df.head(1)"
   ]
  },
  {
   "cell_type": "markdown",
   "id": "743cc701",
   "metadata": {},
   "source": [
    "<a id='limitations'></a>\n",
    "## Limitations"
   ]
  },
  {
   "cell_type": "markdown",
   "id": "7a57ba94",
   "metadata": {},
   "source": [
    "During the data set analysis some limitations where found and need to be addressed for better prediction of the probability for No-Show.\n",
    "\n",
    ">Data Scope is limited, according to https://www.worldometers.info/world-population/brazil-population/ the population of Brazil in 2016 was 206,163,053 given a sample of only 62298 patient is too small and does not represent all the population.\n",
    "\n",
    ">The AppointmentDay spans just over a month which means that the sample doesn't represent the all data, this would greatly effect our analysis and predection (at least a whole year data needed). \n",
    "\n",
    ">AppointmentDay attribute didn't give us the actual time of the appointment which might have a great impact on the probabilty of Show/No Show.\n",
    "\n",
    ">Data set didn't tell us the reason for appiontment or the patient symptoms, this would help us in predicting the attending of the appointment.\n",
    "\n",
    ">Data set didn't tell us the distance betweer the patient homes and the hospitals or the hospitals capabilities.\n",
    "\n",
    ">Some unrealistic data was dropped from the data set like Negative Age and Appointment Date prior to schedule Date. "
   ]
  },
  {
   "cell_type": "markdown",
   "id": "a59c027b",
   "metadata": {},
   "source": [
    "<a id='conclusions'></a>\n",
    "## Conclusions"
   ]
  },
  {
   "cell_type": "markdown",
   "id": "b6cc03df",
   "metadata": {},
   "source": [
    "\n",
    "><b>Result1: </b>PatientId and AppointmentID has no effect on Show/No Show of the patient.\n",
    "\n",
    "><b>Result2: </b>Gender is not significant variable for the probability of Show/No Show.\n",
    "\n",
    "><b>Result3: </b>Age Group is a significant variable for the probabilty of Show/No Show.\n",
    "    \n",
    "><b>Result4: </b>The probability of attending appointment decreases during Weekends.\n",
    "    \n",
    "><b>Result5: </b>The Awaiting Days is a great significant variable for the probabilty of Show/No Show.\n",
    "\n",
    "><b>Result6: </b>Neighbourhood Variable is not significant for the probabilty of Show/No Show.\n",
    "    \n",
    "><b>Result7: </b>Scholarship is important factor in predicting if a patient will show up for their scheduled appointment or not.<br>Not getting Scholarship increases the probability of attending the appointment.\n",
    "    \n",
    "><b>Result8: </b>The probabitity of attending appointment increases when patient have Hipertension.\n",
    "\n",
    "><b>Result9: </b>The probabitity of attending appointments increases when the patient have Diabetes.\n",
    "    \n",
    "><b>Result10: </b>The Alcoholism variable is not significant for the probabilty of Show/No Show.\n",
    "    \n",
    "><b>Result11: </b>The probability of attending appointment decreases when patient have three or four Handcap condition.\n",
    "    \n",
    "\n",
    "><b>Result12: </b>Patients with multi disease condition most likely to not attend the appointment.\n",
    "    \n",
    "><b>Result13: </b>SMS_Received Variable is not significant for the probabilty of Show/No Show."
   ]
  }
 ],
 "metadata": {
  "kernelspec": {
   "display_name": "Python 3 (ipykernel)",
   "language": "python",
   "name": "python3"
  },
  "language_info": {
   "codemirror_mode": {
    "name": "ipython",
    "version": 3
   },
   "file_extension": ".py",
   "mimetype": "text/x-python",
   "name": "python",
   "nbconvert_exporter": "python",
   "pygments_lexer": "ipython3",
   "version": "3.9.7"
  }
 },
 "nbformat": 4,
 "nbformat_minor": 5
}
